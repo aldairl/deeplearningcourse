{
 "cells": [
  {
   "cell_type": "code",
   "execution_count": 2,
   "metadata": {},
   "outputs": [
    {
     "name": "stdout",
     "output_type": "stream",
     "text": [
      "Collecting tensorflow\n",
      "  Using cached https://files.pythonhosted.org/packages/d4/29/6b4f1e02417c3a1ccc85380f093556ffd0b35dc354078074c5195c8447f2/tensorflow-1.13.1-cp37-cp37m-manylinux1_x86_64.whl\n",
      "Collecting gast>=0.2.0 (from tensorflow)\n",
      "Collecting tensorboard<1.14.0,>=1.13.0 (from tensorflow)\n",
      "  Using cached https://files.pythonhosted.org/packages/0f/39/bdd75b08a6fba41f098b6cb091b9e8c7a80e1b4d679a581a0ccd17b10373/tensorboard-1.13.1-py3-none-any.whl\n",
      "Collecting grpcio>=1.8.6 (from tensorflow)\n",
      "  Using cached https://files.pythonhosted.org/packages/a2/66/a44fc7eb9bd3a9c480a70c30306f175521ca0531e2cf1ca54b74a450fdb9/grpcio-1.21.1-cp37-cp37m-manylinux1_x86_64.whl\n",
      "Collecting astor>=0.6.0 (from tensorflow)\n",
      "  Using cached https://files.pythonhosted.org/packages/d1/4f/950dfae467b384fc96bc6469de25d832534f6b4441033c39f914efd13418/astor-0.8.0-py2.py3-none-any.whl\n",
      "Collecting protobuf>=3.6.1 (from tensorflow)\n",
      "  Using cached https://files.pythonhosted.org/packages/ce/86/9f6123c4c6f481862f286dbe13aa2e97bdedd7662f5fc3033c1a41f32f88/protobuf-3.8.0-cp37-cp37m-manylinux1_x86_64.whl\n",
      "Requirement already satisfied: numpy>=1.13.3 in /home/thinking/anaconda3/lib/python3.7/site-packages (from tensorflow) (1.16.2)\n",
      "Collecting keras-preprocessing>=1.0.5 (from tensorflow)\n",
      "  Using cached https://files.pythonhosted.org/packages/28/6a/8c1f62c37212d9fc441a7e26736df51ce6f0e38455816445471f10da4f0a/Keras_Preprocessing-1.1.0-py2.py3-none-any.whl\n",
      "Collecting termcolor>=1.1.0 (from tensorflow)\n",
      "Collecting keras-applications>=1.0.6 (from tensorflow)\n",
      "  Using cached https://files.pythonhosted.org/packages/71/e3/19762fdfc62877ae9102edf6342d71b28fbfd9dea3d2f96a882ce099b03f/Keras_Applications-1.0.8-py3-none-any.whl\n",
      "Collecting tensorflow-estimator<1.14.0rc0,>=1.13.0 (from tensorflow)\n",
      "  Using cached https://files.pythonhosted.org/packages/bb/48/13f49fc3fa0fdf916aa1419013bb8f2ad09674c275b4046d5ee669a46873/tensorflow_estimator-1.13.0-py2.py3-none-any.whl\n",
      "Requirement already satisfied: wheel>=0.26 in /home/thinking/anaconda3/lib/python3.7/site-packages (from tensorflow) (0.33.1)\n",
      "Requirement already satisfied: six>=1.10.0 in /home/thinking/anaconda3/lib/python3.7/site-packages (from tensorflow) (1.12.0)\n",
      "Collecting absl-py>=0.1.6 (from tensorflow)\n",
      "Requirement already satisfied: werkzeug>=0.11.15 in /home/thinking/anaconda3/lib/python3.7/site-packages (from tensorboard<1.14.0,>=1.13.0->tensorflow) (0.14.1)\n",
      "Collecting markdown>=2.6.8 (from tensorboard<1.14.0,>=1.13.0->tensorflow)\n",
      "  Using cached https://files.pythonhosted.org/packages/c0/4e/fd492e91abdc2d2fcb70ef453064d980688762079397f779758e055f6575/Markdown-3.1.1-py2.py3-none-any.whl\n",
      "Requirement already satisfied: setuptools in /home/thinking/anaconda3/lib/python3.7/site-packages (from protobuf>=3.6.1->tensorflow) (40.8.0)\n",
      "Requirement already satisfied: h5py in /home/thinking/anaconda3/lib/python3.7/site-packages (from keras-applications>=1.0.6->tensorflow) (2.9.0)\n",
      "Collecting mock>=2.0.0 (from tensorflow-estimator<1.14.0rc0,>=1.13.0->tensorflow)\n",
      "  Using cached https://files.pythonhosted.org/packages/05/d2/f94e68be6b17f46d2c353564da56e6fb89ef09faeeff3313a046cb810ca9/mock-3.0.5-py2.py3-none-any.whl\n",
      "Installing collected packages: gast, absl-py, protobuf, markdown, grpcio, tensorboard, astor, keras-preprocessing, termcolor, keras-applications, mock, tensorflow-estimator, tensorflow\n",
      "Successfully installed absl-py-0.7.1 astor-0.8.0 gast-0.2.2 grpcio-1.21.1 keras-applications-1.0.8 keras-preprocessing-1.1.0 markdown-3.1.1 mock-3.0.5 protobuf-3.8.0 tensorboard-1.13.1 tensorflow-1.13.1 tensorflow-estimator-1.13.0 termcolor-1.1.0\n",
      "Note: you may need to restart the kernel to use updated packages.\n"
     ]
    }
   ],
   "source": [
    "pip install tensorflow"
   ]
  },
  {
   "cell_type": "code",
   "execution_count": 3,
   "metadata": {},
   "outputs": [],
   "source": [
    "import tensorflow as tf"
   ]
  },
  {
   "cell_type": "markdown",
   "metadata": {},
   "source": [
    "### implementar la clase con el modelo basico de logistic classifier"
   ]
  },
  {
   "cell_type": "code",
   "execution_count": 5,
   "metadata": {},
   "outputs": [],
   "source": [
    "class logisticClassifier:\n",
    "    \n",
    "    def __init__(self, seq_max_len, state_size, vocab_size, num_class):\n",
    "        \n",
    "        self.seq_max_len = seq_max_len\n",
    "        self.state_size = state_size\n",
    "        self.vocab_size = vocab_size\n",
    "        self.num_class = num_class\n",
    "    \n",
    "    def build (self):\n",
    "        \n",
    "        self.x =tf.placeholder(shape = [None, self.seq_max_len], dtype=tf.float32)\n",
    "        x_one_hot_en = tf.one_hot(self.x, self.vocab_size)\n",
    "        \n",
    "        self.y = tf.placeholder(shape = [None], dtype=tf.float32)\n",
    "        y_one_hot_en = tf.one_hot(self.y, self.num_class)\n",
    "        \n",
    "        self.batch_size = tf.placeholder(tf.int32, [], name = 'batch_size')\n",
    "        \n",
    "        #capas\n",
    "        \n",
    "        weights = {\n",
    "            \n",
    "            'layer_0': tf.Variable(tf.random_normal([self.seq_max_len*self.vocab_size, self.num_class]))        \n",
    "        }\n",
    "        \n",
    "        #y = wx + b \n",
    "        #bias = b\n",
    "        \n",
    "        biases = {\n",
    "            \n",
    "            'layer_0': tf.Variable(tf.random_normal([self.num_class]))        \n",
    "        }\n",
    "        \n",
    "        #compatible input con lo que hay en la red neuroanl\n",
    "        \n",
    "        x_input = tf.reshape(x_one_hot_en, [-1, self.seq_max_len*self.vocab_size])\n",
    "        \n",
    "        output = tf.matmul(x_input, weights['layer_0']) + biases['layer_0']\n",
    "        \n",
    "        #logits salida no lineal \n",
    "        \n",
    "        self.logits = tf.sigmoid(output)\n",
    "        \n",
    "        #normalizar valores de salida\n",
    "        \n",
    "        self.probs = tf.nn.softmax(self.logits, axis=1)\n",
    "        \n",
    "        #error\n",
    "        \n",
    "        self.corect_preds = tf.equal(tf.arg_max(self.probs, axis=1), tf.arg_max(self.y_one_hot_en, axis=1))\n",
    "        \n",
    "        #precision\n",
    "        \n",
    "        self.precission = tf.reduce_mean(self.corect_preds)\n",
    "        \n",
    "        return\n",
    "    \n",
    "    def step_training(self, learning_rate=0.1):\n",
    "        \n",
    "        loss = tf.reduce_mean(tf.nn.softmax_cross_entropy_with_logits(labels=self.y_one_hot_en, logits= self.logits))\n",
    "        \n",
    "        optimizer = tf.train.GradientDescentOptimizer(learning_rate= learning_rate).minimize(loss)\n",
    "        \n",
    "        return loos, optimizer        \n",
    "        \n",
    "        "
   ]
  },
  {
   "cell_type": "code",
   "execution_count": null,
   "metadata": {},
   "outputs": [],
   "source": []
  }
 ],
 "metadata": {
  "kernelspec": {
   "display_name": "deep_env",
   "language": "python",
   "name": "deep_env"
  },
  "language_info": {
   "codemirror_mode": {
    "name": "ipython",
    "version": 3
   },
   "file_extension": ".py",
   "mimetype": "text/x-python",
   "name": "python",
   "nbconvert_exporter": "python",
   "pygments_lexer": "ipython3",
   "version": "3.7.3"
  }
 },
 "nbformat": 4,
 "nbformat_minor": 2
}
